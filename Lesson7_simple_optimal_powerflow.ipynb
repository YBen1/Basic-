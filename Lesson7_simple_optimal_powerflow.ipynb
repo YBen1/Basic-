{
  "nbformat": 4,
  "nbformat_minor": 0,
  "metadata": {
    "colab": {
      "name": "Lesson7-simple_optimal_powerflow.ipynb",
      "provenance": [],
      "collapsed_sections": [],
      "authorship_tag": "ABX9TyOdtEKUmzqUpAN81+7nd9uY",
      "include_colab_link": true
    },
    "kernelspec": {
      "name": "python3",
      "display_name": "Python 3"
    },
    "language_info": {
      "name": "python"
    }
  },
  "cells": [
    {
      "cell_type": "markdown",
      "metadata": {
        "id": "view-in-github",
        "colab_type": "text"
      },
      "source": [
        "<a href=\"https://colab.research.google.com/github/YBen1/PandaPower_Basics/blob/main/Lesson7_simple_optimal_powerflow.ipynb\" target=\"_parent\"><img src=\"https://colab.research.google.com/assets/colab-badge.svg\" alt=\"Open In Colab\"/></a>"
      ]
    },
    {
      "cell_type": "markdown",
      "source": [
        "## Lesson 7\n"
      ],
      "metadata": {
        "id": "rPBnIr7UzB6r"
      }
    },
    {
      "cell_type": "code",
      "execution_count": 2,
      "metadata": {
        "colab": {
          "base_uri": "https://localhost:8080/"
        },
        "id": "zMj2DxKvysDK",
        "outputId": "07df0675-06c9-47d1-8de7-e614db5b27eb"
      },
      "outputs": [
        {
          "output_type": "stream",
          "name": "stdout",
          "text": [
            "Looking in indexes: https://pypi.org/simple, https://us-python.pkg.dev/colab-wheels/public/simple/\n",
            "Collecting pandapower\n",
            "  Downloading pandapower-2.10.1.zip (6.2 MB)\n",
            "\u001b[K     |████████████████████████████████| 6.2 MB 16.4 MB/s \n",
            "\u001b[?25hRequirement already satisfied: pandas>=1.0 in /usr/local/lib/python3.7/dist-packages (from pandapower) (1.3.5)\n",
            "Requirement already satisfied: networkx>=2.5 in /usr/local/lib/python3.7/dist-packages (from pandapower) (2.6.3)\n",
            "Requirement already satisfied: scipy in /usr/local/lib/python3.7/dist-packages (from pandapower) (1.7.3)\n",
            "Requirement already satisfied: numpy>=0.11 in /usr/local/lib/python3.7/dist-packages (from pandapower) (1.21.6)\n",
            "Requirement already satisfied: packaging in /usr/local/lib/python3.7/dist-packages (from pandapower) (21.3)\n",
            "Requirement already satisfied: tqdm in /usr/local/lib/python3.7/dist-packages (from pandapower) (4.64.0)\n",
            "Collecting deepdiff\n",
            "  Downloading deepdiff-5.8.1-py3-none-any.whl (69 kB)\n",
            "\u001b[K     |████████████████████████████████| 69 kB 2.3 MB/s \n",
            "\u001b[?25hRequirement already satisfied: pytz>=2017.3 in /usr/local/lib/python3.7/dist-packages (from pandas>=1.0->pandapower) (2022.1)\n",
            "Requirement already satisfied: python-dateutil>=2.7.3 in /usr/local/lib/python3.7/dist-packages (from pandas>=1.0->pandapower) (2.8.2)\n",
            "Requirement already satisfied: six>=1.5 in /usr/local/lib/python3.7/dist-packages (from python-dateutil>=2.7.3->pandas>=1.0->pandapower) (1.15.0)\n",
            "Collecting ordered-set<4.2.0,>=4.1.0\n",
            "  Downloading ordered_set-4.1.0-py3-none-any.whl (7.6 kB)\n",
            "Requirement already satisfied: pyparsing!=3.0.5,>=2.0.2 in /usr/local/lib/python3.7/dist-packages (from packaging->pandapower) (3.0.9)\n",
            "Building wheels for collected packages: pandapower\n",
            "  Building wheel for pandapower (setup.py) ... \u001b[?25l\u001b[?25hdone\n",
            "  Created wheel for pandapower: filename=pandapower-2.10.1-py3-none-any.whl size=6146443 sha256=c11c1fed8e447275c38f94779a7549ca964088bb45a4ee90f735483e4d1d0036\n",
            "  Stored in directory: /root/.cache/pip/wheels/15/eb/46/eda2673e80dc73abf196bc371ba6d6d91a90fa8bd65a6897d6\n",
            "Successfully built pandapower\n",
            "Installing collected packages: ordered-set, deepdiff, pandapower\n",
            "Successfully installed deepdiff-5.8.1 ordered-set-4.1.0 pandapower-2.10.1\n"
          ]
        }
      ],
      "source": [
        "!pip install pandapower"
      ]
    },
    {
      "cell_type": "code",
      "source": [
        "!pip install pytest"
      ],
      "metadata": {
        "colab": {
          "base_uri": "https://localhost:8080/"
        },
        "id": "TLsO6ga612F7",
        "outputId": "13a3c970-ee6d-4ebb-eaa5-469183c40c73"
      },
      "execution_count": 3,
      "outputs": [
        {
          "output_type": "stream",
          "name": "stdout",
          "text": [
            "Looking in indexes: https://pypi.org/simple, https://us-python.pkg.dev/colab-wheels/public/simple/\n",
            "Requirement already satisfied: pytest in /usr/local/lib/python3.7/dist-packages (3.6.4)\n",
            "Requirement already satisfied: pluggy<0.8,>=0.5 in /usr/local/lib/python3.7/dist-packages (from pytest) (0.7.1)\n",
            "Requirement already satisfied: six>=1.10.0 in /usr/local/lib/python3.7/dist-packages (from pytest) (1.15.0)\n",
            "Requirement already satisfied: py>=1.5.0 in /usr/local/lib/python3.7/dist-packages (from pytest) (1.11.0)\n",
            "Requirement already satisfied: setuptools in /usr/local/lib/python3.7/dist-packages (from pytest) (57.4.0)\n",
            "Requirement already satisfied: atomicwrites>=1.0 in /usr/local/lib/python3.7/dist-packages (from pytest) (1.4.1)\n",
            "Requirement already satisfied: attrs>=17.4.0 in /usr/local/lib/python3.7/dist-packages (from pytest) (21.4.0)\n",
            "Requirement already satisfied: more-itertools>=4.0.0 in /usr/local/lib/python3.7/dist-packages (from pytest) (8.13.0)\n"
          ]
        }
      ]
    },
    {
      "cell_type": "code",
      "source": [
        "import pandapower.test\n",
        "import pandapower as pp\n",
        "import pandapower.networks as nw\n",
        "import pandapower.topology as top\n",
        "import pandapower.plotting as plot\n",
        "import matplotlib.pyplot as plt\n",
        "import pandapower.converter\n",
        "import pandapower.estimation\n",
        "import networkx as nx"
      ],
      "metadata": {
        "id": "mjFnccc11C1o"
      },
      "execution_count": 4,
      "outputs": []
    },
    {
      "cell_type": "code",
      "source": [
        "net = pp.create_empty_network()\n",
        "\n",
        "min_vm_pu = .95\n",
        "max_vm_pu = 1.05"
      ],
      "metadata": {
        "id": "jGYTqWWL1Vt2"
      },
      "execution_count": 21,
      "outputs": []
    },
    {
      "cell_type": "code",
      "source": [
        "# create buses\n",
        "bus1 = pp.create_bus(net, vn_kv=110., min_vm_pu=min_vm_pu, max_vm_pu=max_vm_pu)\n",
        "bus2 = pp.create_bus(net, vn_kv=110., min_vm_pu=min_vm_pu, max_vm_pu=max_vm_pu)\n",
        "bus3 = pp.create_bus(net, vn_kv=110., min_vm_pu=min_vm_pu, max_vm_pu=max_vm_pu)"
      ],
      "metadata": {
        "id": "FIzmBJ703Q8-"
      },
      "execution_count": 22,
      "outputs": []
    },
    {
      "cell_type": "code",
      "source": [
        "# create 110 kV lines\n",
        "l1 = pp.create_line(net, bus1, bus2, length_km=1., std_type='149-AL1/24-ST1A 110.0')\n",
        "l2 = pp.create_line(net, bus2, bus3, length_km=1., std_type='149-AL1/24-ST1A 110.0')\n",
        "l3 = pp.create_line(net, bus3, bus1, length_km=1., std_type='149-AL1/24-ST1A 110.0')"
      ],
      "metadata": {
        "id": "qB_hINek3TLd"
      },
      "execution_count": 23,
      "outputs": []
    },
    {
      "cell_type": "code",
      "source": [
        "# create loads\n",
        "pp.create_load(net, bus3, p_mw=300)"
      ],
      "metadata": {
        "colab": {
          "base_uri": "https://localhost:8080/"
        },
        "id": "fR2CuRw3ZGcW",
        "outputId": "7a5e654f-a8e0-44d6-d075-da5e57432f62"
      },
      "execution_count": 24,
      "outputs": [
        {
          "output_type": "execute_result",
          "data": {
            "text/plain": [
              "0"
            ]
          },
          "metadata": {},
          "execution_count": 24
        }
      ]
    },
    {
      "cell_type": "code",
      "source": [
        "g1 = pp.create_gen(net,bus1, p_mw =200,min_p_mw=0, max_p_mw=300, controllable = True, slack = True)\n",
        "g2 = pp.create_gen(net, bus2, p_mw=200, min_p_mw =0, max_p_mw= 300, controllable = True)"
      ],
      "metadata": {
        "id": "XMFHXEX4ZHBA"
      },
      "execution_count": 25,
      "outputs": []
    },
    {
      "cell_type": "code",
      "source": [
        "pp.create_poly_cost(net, element = g1, et =\"gen\", cp1_eur_per_mw = 20)\n",
        "pp.create_poly_cost(net, element = g2, et =\"gen\", cp1_eur_per_mw = 30)"
      ],
      "metadata": {
        "colab": {
          "base_uri": "https://localhost:8080/"
        },
        "id": "8Qd0xDAdZKT8",
        "outputId": "b6e81136-a8eb-4ffc-c264-ffcff240473c"
      },
      "execution_count": 26,
      "outputs": [
        {
          "output_type": "execute_result",
          "data": {
            "text/plain": [
              "1"
            ]
          },
          "metadata": {},
          "execution_count": 26
        }
      ]
    },
    {
      "cell_type": "code",
      "source": [
        "pp.runopp(net)\n",
        "print(net.res_gen)"
      ],
      "metadata": {
        "colab": {
          "base_uri": "https://localhost:8080/"
        },
        "id": "5kR_Zn3FZNhs",
        "outputId": "d526e5a6-9446-4bc9-8306-2c4882ef52d7"
      },
      "execution_count": 27,
      "outputs": [
        {
          "output_type": "stream",
          "name": "stdout",
          "text": [
            "         p_mw    q_mvar  va_degree     vm_pu\n",
            "0  299.999914  0.421659   0.000000  1.049964\n",
            "1    0.875257  1.318242  -0.176096  1.048456\n"
          ]
        }
      ]
    },
    {
      "cell_type": "code",
      "source": [
        ""
      ],
      "metadata": {
        "id": "mq45YxF7_5c_"
      },
      "execution_count": null,
      "outputs": []
    }
  ]
}