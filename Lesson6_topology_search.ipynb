{
  "nbformat": 4,
  "nbformat_minor": 0,
  "metadata": {
    "colab": {
      "name": "Lesson6-topology_search.ipynb",
      "provenance": [],
      "collapsed_sections": [],
      "authorship_tag": "ABX9TyOyOnHpo3uNiAtekTkwp/VR",
      "include_colab_link": true
    },
    "kernelspec": {
      "name": "python3",
      "display_name": "Python 3"
    },
    "language_info": {
      "name": "python"
    }
  },
  "cells": [
    {
      "cell_type": "markdown",
      "metadata": {
        "id": "view-in-github",
        "colab_type": "text"
      },
      "source": [
        "<a href=\"https://colab.research.google.com/github/YBen1/PandaPower_Basics/blob/main/Lesson6_topology_search.ipynb\" target=\"_parent\"><img src=\"https://colab.research.google.com/assets/colab-badge.svg\" alt=\"Open In Colab\"/></a>"
      ]
    },
    {
      "cell_type": "markdown",
      "source": [
        "## Lesson 6\n",
        "we try to finde the shortes connection between busses"
      ],
      "metadata": {
        "id": "rPBnIr7UzB6r"
      }
    },
    {
      "cell_type": "code",
      "execution_count": 1,
      "metadata": {
        "colab": {
          "base_uri": "https://localhost:8080/"
        },
        "id": "zMj2DxKvysDK",
        "outputId": "c2385231-089b-4d7a-b71a-251de5d8daeb"
      },
      "outputs": [
        {
          "output_type": "stream",
          "name": "stdout",
          "text": [
            "Looking in indexes: https://pypi.org/simple, https://us-python.pkg.dev/colab-wheels/public/simple/\n",
            "Requirement already satisfied: pandapower in /usr/local/lib/python3.7/dist-packages (2.9.0)\n",
            "Requirement already satisfied: pandas>=0.17 in /usr/local/lib/python3.7/dist-packages (from pandapower) (1.3.5)\n",
            "Requirement already satisfied: packaging in /usr/local/lib/python3.7/dist-packages (from pandapower) (21.3)\n",
            "Requirement already satisfied: networkx>=2.5 in /usr/local/lib/python3.7/dist-packages (from pandapower) (2.6.3)\n",
            "Requirement already satisfied: numpy>=0.11 in /usr/local/lib/python3.7/dist-packages (from pandapower) (1.21.6)\n",
            "Requirement already satisfied: scipy in /usr/local/lib/python3.7/dist-packages (from pandapower) (1.7.3)\n",
            "Requirement already satisfied: tqdm in /usr/local/lib/python3.7/dist-packages (from pandapower) (4.64.0)\n",
            "Requirement already satisfied: pytz>=2017.3 in /usr/local/lib/python3.7/dist-packages (from pandas>=0.17->pandapower) (2022.1)\n",
            "Requirement already satisfied: python-dateutil>=2.7.3 in /usr/local/lib/python3.7/dist-packages (from pandas>=0.17->pandapower) (2.8.2)\n",
            "Requirement already satisfied: six>=1.5 in /usr/local/lib/python3.7/dist-packages (from python-dateutil>=2.7.3->pandas>=0.17->pandapower) (1.15.0)\n",
            "Requirement already satisfied: pyparsing!=3.0.5,>=2.0.2 in /usr/local/lib/python3.7/dist-packages (from packaging->pandapower) (3.0.9)\n"
          ]
        }
      ],
      "source": [
        "!pip install pandapower"
      ]
    },
    {
      "cell_type": "code",
      "source": [
        "!pip install pytest"
      ],
      "metadata": {
        "colab": {
          "base_uri": "https://localhost:8080/"
        },
        "id": "TLsO6ga612F7",
        "outputId": "c4a01357-7142-4156-ffd6-45997d60e3bd"
      },
      "execution_count": 2,
      "outputs": [
        {
          "output_type": "stream",
          "name": "stdout",
          "text": [
            "Looking in indexes: https://pypi.org/simple, https://us-python.pkg.dev/colab-wheels/public/simple/\n",
            "Requirement already satisfied: pytest in /usr/local/lib/python3.7/dist-packages (3.6.4)\n",
            "Requirement already satisfied: py>=1.5.0 in /usr/local/lib/python3.7/dist-packages (from pytest) (1.11.0)\n",
            "Requirement already satisfied: six>=1.10.0 in /usr/local/lib/python3.7/dist-packages (from pytest) (1.15.0)\n",
            "Requirement already satisfied: attrs>=17.4.0 in /usr/local/lib/python3.7/dist-packages (from pytest) (21.4.0)\n",
            "Requirement already satisfied: setuptools in /usr/local/lib/python3.7/dist-packages (from pytest) (57.4.0)\n",
            "Requirement already satisfied: pluggy<0.8,>=0.5 in /usr/local/lib/python3.7/dist-packages (from pytest) (0.7.1)\n",
            "Requirement already satisfied: more-itertools>=4.0.0 in /usr/local/lib/python3.7/dist-packages (from pytest) (8.13.0)\n",
            "Requirement already satisfied: atomicwrites>=1.0 in /usr/local/lib/python3.7/dist-packages (from pytest) (1.4.1)\n"
          ]
        }
      ]
    },
    {
      "cell_type": "code",
      "source": [
        "import pandapower.test\n",
        "import pandapower as pp\n",
        "import pandapower.networks as nw\n",
        "import pandapower.topology as top\n",
        "import pandapower.plotting as plot\n",
        "import matplotlib.pyplot as plt\n",
        "import pandapower.converter\n",
        "import pandapower.estimation\n",
        "import networkx as nx"
      ],
      "metadata": {
        "id": "mjFnccc11C1o"
      },
      "execution_count": 3,
      "outputs": []
    },
    {
      "cell_type": "code",
      "source": [
        "net = pp.create_empty_network()\n",
        "\n",
        "min_vm_pu = .95\n",
        "max_vm_pu = 1.05"
      ],
      "metadata": {
        "id": "jGYTqWWL1Vt2"
      },
      "execution_count": 4,
      "outputs": []
    },
    {
      "cell_type": "code",
      "source": [
        "# create buses\n",
        "bus1 = pp.create_bus(net, vn_kv=110., min_vm_pu=min_vm_pu, max_vm_pu=max_vm_pu)\n",
        "bus2 = pp.create_bus(net, vn_kv=110., min_vm_pu=min_vm_pu, max_vm_pu=max_vm_pu)\n",
        "bus3 = pp.create_bus(net, vn_kv=110., min_vm_pu=min_vm_pu, max_vm_pu=max_vm_pu)"
      ],
      "metadata": {
        "id": "FIzmBJ703Q8-"
      },
      "execution_count": 5,
      "outputs": []
    },
    {
      "cell_type": "code",
      "source": [
        "# create 110 kV lines\n",
        "l1 = pp.create_line(net, bus1, bus2, length_km=1., std_type='149-AL1/24-ST1A 110.0')\n",
        "l2 = pp.create_line(net, bus2, bus3, length_km=1., std_type='149-AL1/24-ST1A 110.0')\n",
        "l3 = pp.create_line(net, bus3, bus1, length_km=1., std_type='149-AL1/24-ST1A 110.0')"
      ],
      "metadata": {
        "id": "qB_hINek3TLd"
      },
      "execution_count": 6,
      "outputs": []
    },
    {
      "cell_type": "code",
      "source": [
        "# create loads\n",
        "pp.create_load(net, bus3, p_mw=300)"
      ],
      "metadata": {
        "colab": {
          "base_uri": "https://localhost:8080/"
        },
        "id": "fR2CuRw3ZGcW",
        "outputId": "753e648a-5e82-418e-f978-5b49aafd5026"
      },
      "execution_count": 7,
      "outputs": [
        {
          "output_type": "execute_result",
          "data": {
            "text/plain": [
              "0"
            ]
          },
          "metadata": {},
          "execution_count": 7
        }
      ]
    },
    {
      "cell_type": "code",
      "source": [
        "\n",
        "# create generators\n",
        "g1 = pp.create_gen(net, bus1, p_mw=200, min_p_mw=0, max_p_mw=300, controllable=True, slack=True)\n",
        "g2 = pp.create_gen(net, bus2, p_mw=0, min_p_mw=0, max_p_mw=300, controllable=True)\n",
        "g3 = pp.create_gen(net, bus3, p_mw=0, min_p_mw=0, max_p_mw=300, controllable=True)"
      ],
      "metadata": {
        "id": "XMFHXEX4ZHBA"
      },
      "execution_count": 8,
      "outputs": []
    },
    {
      "cell_type": "code",
      "source": [
        "pp.create_poly_cost(net, element=g1, et=\"gen\", cp1_eur_per_mw=30)\n",
        "pp.create_poly_cost(net, element=g2, et=\"gen\", cp1_eur_per_mw=30)\n",
        "pp.create_poly_cost(net, element=g3, et=\"gen\", cp1_eur_per_mw=29.999)"
      ],
      "metadata": {
        "colab": {
          "base_uri": "https://localhost:8080/"
        },
        "id": "8Qd0xDAdZKT8",
        "outputId": "0fd2ab31-8e4e-45b9-c9e9-42be801c3f1b"
      },
      "execution_count": 9,
      "outputs": [
        {
          "output_type": "execute_result",
          "data": {
            "text/plain": [
              "2"
            ]
          },
          "metadata": {},
          "execution_count": 9
        }
      ]
    },
    {
      "cell_type": "code",
      "source": [
        "pp.runopp(net)\n",
        "print(net.res_gen)"
      ],
      "metadata": {
        "colab": {
          "base_uri": "https://localhost:8080/"
        },
        "id": "5kR_Zn3FZNhs",
        "outputId": "fb01c735-127b-4b25-e557-61c1981e72cd"
      },
      "execution_count": 10,
      "outputs": [
        {
          "output_type": "stream",
          "name": "stdout",
          "text": [
            "         p_mw    q_mvar     va_degree     vm_pu\n",
            "0    0.029747 -0.032991  0.000000e+00  0.995924\n",
            "1    0.029747 -0.032991 -1.548729e-15  0.995924\n",
            "2  299.940505 -0.032992 -5.840541e-05  0.995923\n"
          ]
        }
      ]
    }
  ]
}