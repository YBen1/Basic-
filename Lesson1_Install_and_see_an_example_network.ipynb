{
  "nbformat": 4,
  "nbformat_minor": 0,
  "metadata": {
    "colab": {
      "name": "Lesson1-Install_and_see_an_example_network.ipynb",
      "provenance": [],
      "collapsed_sections": [],
      "authorship_tag": "ABX9TyNBdLJh9bKr2YkdifE3C3Fn",
      "include_colab_link": true
    },
    "kernelspec": {
      "name": "python3",
      "display_name": "Python 3"
    },
    "language_info": {
      "name": "python"
    }
  },
  "cells": [
    {
      "cell_type": "markdown",
      "metadata": {
        "id": "view-in-github",
        "colab_type": "text"
      },
      "source": [
        "<a href=\"https://colab.research.google.com/github/YBen1/PandaPower_Basics/blob/main/Lesson1_Install_and_see_an_example_network.ipynb\" target=\"_parent\"><img src=\"https://colab.research.google.com/assets/colab-badge.svg\" alt=\"Open In Colab\"/></a>"
      ]
    },
    {
      "cell_type": "markdown",
      "source": [
        "## Lesson one"
      ],
      "metadata": {
        "id": "rPBnIr7UzB6r"
      }
    },
    {
      "cell_type": "code",
      "execution_count": null,
      "metadata": {
        "colab": {
          "base_uri": "https://localhost:8080/"
        },
        "id": "zMj2DxKvysDK",
        "outputId": "5f125976-4697-4867-c36c-d24a1c5c1197"
      },
      "outputs": [
        {
          "output_type": "stream",
          "name": "stdout",
          "text": [
            "Looking in indexes: https://pypi.org/simple, https://us-python.pkg.dev/colab-wheels/public/simple/\n",
            "Requirement already satisfied: pandapower in /usr/local/lib/python3.7/dist-packages (2.9.0)\n",
            "Requirement already satisfied: packaging in /usr/local/lib/python3.7/dist-packages (from pandapower) (21.3)\n",
            "Requirement already satisfied: numpy>=0.11 in /usr/local/lib/python3.7/dist-packages (from pandapower) (1.21.6)\n",
            "Requirement already satisfied: pandas>=0.17 in /usr/local/lib/python3.7/dist-packages (from pandapower) (1.3.5)\n",
            "Requirement already satisfied: scipy in /usr/local/lib/python3.7/dist-packages (from pandapower) (1.7.3)\n",
            "Requirement already satisfied: networkx>=2.5 in /usr/local/lib/python3.7/dist-packages (from pandapower) (2.6.3)\n",
            "Requirement already satisfied: tqdm in /usr/local/lib/python3.7/dist-packages (from pandapower) (4.64.0)\n",
            "Requirement already satisfied: pytz>=2017.3 in /usr/local/lib/python3.7/dist-packages (from pandas>=0.17->pandapower) (2022.1)\n",
            "Requirement already satisfied: python-dateutil>=2.7.3 in /usr/local/lib/python3.7/dist-packages (from pandas>=0.17->pandapower) (2.8.2)\n",
            "Requirement already satisfied: six>=1.5 in /usr/local/lib/python3.7/dist-packages (from python-dateutil>=2.7.3->pandas>=0.17->pandapower) (1.15.0)\n",
            "Requirement already satisfied: pyparsing!=3.0.5,>=2.0.2 in /usr/local/lib/python3.7/dist-packages (from packaging->pandapower) (3.0.9)\n"
          ]
        }
      ],
      "source": [
        "!pip install pandapower"
      ]
    },
    {
      "cell_type": "code",
      "source": [
        "!pip install pytest"
      ],
      "metadata": {
        "colab": {
          "base_uri": "https://localhost:8080/"
        },
        "id": "TLsO6ga612F7",
        "outputId": "8bdd4b9f-58a2-4679-9669-d4eb38d17520"
      },
      "execution_count": null,
      "outputs": [
        {
          "output_type": "stream",
          "name": "stdout",
          "text": [
            "Looking in indexes: https://pypi.org/simple, https://us-python.pkg.dev/colab-wheels/public/simple/\n",
            "Requirement already satisfied: pytest in /usr/local/lib/python3.7/dist-packages (3.6.4)\n",
            "Requirement already satisfied: six>=1.10.0 in /usr/local/lib/python3.7/dist-packages (from pytest) (1.15.0)\n",
            "Requirement already satisfied: pluggy<0.8,>=0.5 in /usr/local/lib/python3.7/dist-packages (from pytest) (0.7.1)\n",
            "Requirement already satisfied: attrs>=17.4.0 in /usr/local/lib/python3.7/dist-packages (from pytest) (21.4.0)\n",
            "Requirement already satisfied: py>=1.5.0 in /usr/local/lib/python3.7/dist-packages (from pytest) (1.11.0)\n",
            "Requirement already satisfied: atomicwrites>=1.0 in /usr/local/lib/python3.7/dist-packages (from pytest) (1.4.1)\n",
            "Requirement already satisfied: more-itertools>=4.0.0 in /usr/local/lib/python3.7/dist-packages (from pytest) (8.13.0)\n",
            "Requirement already satisfied: setuptools in /usr/local/lib/python3.7/dist-packages (from pytest) (57.4.0)\n"
          ]
        }
      ]
    },
    {
      "cell_type": "code",
      "source": [
        "import pandapower.test\n",
        "import pandapower as pp\n",
        "import pandapower.networks as nw\n",
        "import pandapower.topology\n",
        "import pandapower.plotting\n",
        "import pandapower.converter\n",
        "import pandapower.estimation"
      ],
      "metadata": {
        "id": "mjFnccc11C1o"
      },
      "execution_count": null,
      "outputs": []
    },
    {
      "cell_type": "code",
      "source": [
        "pandapower.test.run_all_tests()"
      ],
      "metadata": {
        "colab": {
          "base_uri": "https://localhost:8080/"
        },
        "id": "uTkXdEmK1LfW",
        "outputId": "5c6106f7-999b-4f07-8dd3-c24460dc9a20"
      },
      "execution_count": null,
      "outputs": [
        {
          "output_type": "stream",
          "name": "stdout",
          "text": [
            "============================= test session starts ==============================\n",
            "platform linux -- Python 3.7.13, pytest-3.6.4, py-1.11.0, pluggy-0.7.1\n",
            "rootdir: /usr/local/lib/python3.7/dist-packages/pandapower/test, inifile:\n",
            "plugins: typeguard-2.7.1\n",
            "collected 657 items\n",
            "\n",
            "../usr/local/lib/python3.7/dist-packages/pandapower/test/api/test_auxiliary.py ..F\n",
            "\n",
            "=================================== FAILURES ===================================\n",
            "______________________________ test_memory_leaks _______________________________\n",
            "\n",
            "    def test_memory_leaks():\n",
            "        net = pp.networks.example_simple()\n",
            "    \n",
            "        # first, test to check that there are no memory leaks\n",
            "        types_dict1 = pp.toolbox.get_gc_objects_dict()\n",
            "        num = 3\n",
            "        for _ in range(num):\n",
            "            net_copy = copy.deepcopy(net)\n",
            "            # In each net copy it has only one controller\n",
            "            pp.control.ContinuousTapControl(net_copy, tid=0, vm_set_pu=1)\n",
            "    \n",
            "        gc.collect()\n",
            "    \n",
            "        types_dict2 = pp.toolbox.get_gc_objects_dict()\n",
            "    \n",
            ">       assert types_dict2[pandapower.auxiliary.pandapowerNet] - types_dict1[pandapower.auxiliary.pandapowerNet] == 1\n",
            "E       assert (2 - 3) == 1\n",
            "\n",
            "/usr/local/lib/python3.7/dist-packages/pandapower/test/api/test_auxiliary.py:131: AssertionError\n",
            "=============================== warnings summary ===============================\n",
            "<undetermined location>\n",
            "  Module already imported so cannot be rewritten: typeguard\n",
            "\n",
            "-- Docs: http://doc.pytest.org/en/latest/warnings.html\n",
            "================ 1 failed, 2 passed, 1 warnings in 1.15 seconds ================\n"
          ]
        }
      ]
    },
    {
      "cell_type": "code",
      "source": [
        "net = nw.simple_four_bus_system()"
      ],
      "metadata": {
        "id": "jGYTqWWL1Vt2"
      },
      "execution_count": null,
      "outputs": []
    },
    {
      "cell_type": "code",
      "source": [
        "print(net)"
      ],
      "metadata": {
        "colab": {
          "base_uri": "https://localhost:8080/"
        },
        "id": "FIzmBJ703Q8-",
        "outputId": "407cc7ac-fb52-4195-ded3-e158106fe5ae"
      },
      "execution_count": null,
      "outputs": [
        {
          "output_type": "stream",
          "name": "stdout",
          "text": [
            "This pandapower network includes the following parameter tables:\n",
            "   - bus (4 elements)\n",
            "   - load (2 elements)\n",
            "   - sgen (2 elements)\n",
            "   - ext_grid (1 element)\n",
            "   - line (2 elements)\n",
            "   - trafo (1 element)\n",
            "   - bus_geodata (4 elements)\n"
          ]
        }
      ]
    },
    {
      "cell_type": "code",
      "source": [
        ""
      ],
      "metadata": {
        "id": "qB_hINek3TLd"
      },
      "execution_count": null,
      "outputs": []
    }
  ]
}